{
 "cells": [
  {
   "cell_type": "code",
   "execution_count": null,
   "id": "c01405b9",
   "metadata": {},
   "outputs": [],
   "source": [
    "\n",
    "def swap_case(s):\n",
    "    amma=''\n",
    "    for a in s:\n",
    "     if(a.isupper()==True):\n",
    "      amma+=a.lower()\n",
    "     elif(a.islower()==True):\n",
    "       amma+=a.upper()\n",
    "     else:\n",
    "      amma+=a       \n",
    "    return amma\n",
    "\n"
   ]
  },
  {
   "cell_type": "code",
   "execution_count": null,
   "id": "916b7de5",
   "metadata": {},
   "outputs": [],
   "source": [
    "def split_and_join(line):\n",
    "    line=line.split(\" \")\n",
    "    line=\"-\".join(line)\n",
    "    return line\n",
    "    \n",
    "    # write your code here\n",
    "\n"
   ]
  },
  {
   "cell_type": "code",
   "execution_count": null,
   "id": "979b1cd8",
   "metadata": {},
   "outputs": [],
   "source": [
    "\n",
    "#\n",
    "# Complete the 'print_full_name' function below.\n",
    "#\n",
    "# The function is expected to return a STRING.\n",
    "# The function accepts following parameters:\n",
    "#  1. STRING first\n",
    "#  2. STRING last\n",
    "#\n",
    "\n",
    "def print_full_name(first, last):\n",
    "    amma=\"Hello \"+first+\" \"+last +\"! You just delved into python\"+\".\"\n",
    "    #amma+=str(first)\n",
    "    #amma+=str(last)\n",
    "    #amma+=\"! You just delved into python\"\n",
    "    print(amma)\n",
    "    # Write your code here\n",
    "\n"
   ]
  },
  {
   "cell_type": "code",
   "execution_count": null,
   "id": "c70ab201",
   "metadata": {},
   "outputs": [],
   "source": [
    "def mutate_string(string, position, character):\n",
    "    string=string[:position]+str(character)+string[position+1:]\n",
    "    return string\n",
    "\n"
   ]
  },
  {
   "cell_type": "code",
   "execution_count": null,
   "id": "39560e81",
   "metadata": {},
   "outputs": [],
   "source": [
    "def count_substring(string, sub_string):\n",
    "    n=int(0)\n",
    "    for i in range(len(string)):\n",
    "        if(string[i:i+len(sub_string)]==sub_string):\n",
    "            n+=1\n",
    "    return n        \n",
    "\n"
   ]
  },
  {
   "cell_type": "code",
   "execution_count": null,
   "id": "343f82fc",
   "metadata": {},
   "outputs": [],
   "source": [
    "if __name__ == '__main__':\n",
    "    s = input()\n",
    "    amma =  [False for i in range(5)]\n",
    "    for i in range(len(s)):\n",
    "        if(s[i].isalnum()):\n",
    "            amma[0]=True\n",
    "        if(s[i].isalpha()):\n",
    "            amma[1]=True\n",
    "        if(s[i].isdigit()): \n",
    "            amma[2]=True\n",
    "        if(s[i].islower()):\n",
    "            amma[3]=True\n",
    "        if(s[i].isupper()):\n",
    "            amma[4]=True\n",
    "    for i in range(5):\n",
    "      print(amma[i])        \n",
    "    \n",
    "                          \n",
    "     \n",
    "    \n"
   ]
  },
  {
   "cell_type": "code",
   "execution_count": null,
   "id": "a83538c5",
   "metadata": {},
   "outputs": [],
   "source": [
    "#Replace all ______ with rjust, ljust or center. \n",
    "\n",
    "thickness = int(input()) #This must be an odd number\n",
    "c = 'H'\n",
    "\n",
    "#Top Cone\n",
    "for i in range(thickness):\n",
    "    print((c*i).rjust(thickness-1)+c+(c*i).ljust(thickness-1))\n",
    "\n",
    "#Top Pillars\n",
    "for i in range(thickness+1):\n",
    "    print((c*thickness).center(thickness*2)+(c*thickness).center(thickness*6))\n",
    "\n",
    "#Middle Belt\n",
    "for i in range((thickness+1)//2):\n",
    "    print((c*thickness*5).center(thickness*6))    \n",
    "\n",
    "#Bottom Pillars\n",
    "for i in range(thickness+1):\n",
    "    print((c*thickness).center(thickness*2)+(c*thickness).center(thickness*6))    \n",
    "\n",
    "#Bottom Cone\n",
    "for i in range(thickness):\n",
    "    print(((c*(thickness-i-1)).rjust(thickness)+c+(c*(thickness-i-1)).ljust(thickness)).rjust(thickness*6))\n"
   ]
  },
  {
   "cell_type": "code",
   "execution_count": null,
   "id": "33792436",
   "metadata": {},
   "outputs": [],
   "source": [
    "\n",
    "def wrap(string, max_width):\n",
    "    s=\"\"\n",
    "    for i in range(0,len(string),max_width):\n",
    "        s=s+string[i:i+max_width]+'\\n'\n",
    "    return s\n",
    "\n",
    "    \n",
    "\n"
   ]
  },
  {
   "cell_type": "code",
   "execution_count": null,
   "id": "be94f597",
   "metadata": {},
   "outputs": [],
   "source": [
    "# Enter your code here. Read input from STDIN. Print output to STDOUT\n",
    "x,y=map(int,input().split())\n",
    "a='.'\n",
    "b='|..'\n",
    "c='..|'\n",
    "m=0\n",
    "for i in range(x//2):\n",
    "    print((a).rjust((y//2)-3*i,'-'),end='')\n",
    "    print(b*i,end='')\n",
    "    print(\"|\",end='')\n",
    "    print(c*i,end='')\n",
    "    print((a).ljust((y//2)-3*i,'-'))\n",
    "    m=i\n",
    "print('WELCOME'.center(y,'-'))  \n",
    "for i in range(x//2):\n",
    "    print(a.rjust(3*(i+1)+1,'-'),end='')\n",
    "    print(b*m,end='')\n",
    "    print(\"|\",end='')\n",
    "    print(c*m,end='')\n",
    "    print(a.ljust(3*(i+1)+1,'-'))\n",
    "    m-=1\n",
    "   \n",
    "    \n",
    "    \n",
    "    \n",
    "   \n",
    "    \n"
   ]
  },
  {
   "cell_type": "code",
   "execution_count": null,
   "id": "5e1b0db4",
   "metadata": {},
   "outputs": [],
   "source": [
    "def print_formatted(number):\n",
    "# Print values\n",
    "    length=len(bin(number))-1\n",
    "    for i in range(1, number+1):\n",
    "        print(str(i).rjust(length-1), end=\"\")\n",
    "        print(str(oct(i))[2:].rjust(length), end=\"\")\n",
    "        print(str(hex(i))[2:].rjust(length).upper(), end=\"\")\n",
    "        print(str(bin(i))[2:].rjust(length), end=\"\")\n",
    "        print(\"\")\n",
    "        \n",
    "     \n",
    "    # your code goes here\n",
    "\n"
   ]
  },
  {
   "cell_type": "code",
   "execution_count": null,
   "id": "9c17bd73",
   "metadata": {},
   "outputs": [],
   "source": [
    "def solve(s):\n",
    "    found = True\n",
    "    st = ''\n",
    "    for i in s:\n",
    "        if found == True:\n",
    "            st += i.upper()\n",
    "            found = False\n",
    "        else:\n",
    "            st += i\n",
    "        if i == ' ':\n",
    "            found = True\n",
    "    return st-"
   ]
  },
  {
   "cell_type": "code",
   "execution_count": null,
   "id": "4d4027d6",
   "metadata": {},
   "outputs": [],
   "source": []
  }
 ],
 "metadata": {
  "kernelspec": {
   "display_name": "Python 3 (ipykernel)",
   "language": "python",
   "name": "python3"
  },
  "language_info": {
   "codemirror_mode": {
    "name": "ipython",
    "version": 3
   },
   "file_extension": ".py",
   "mimetype": "text/x-python",
   "name": "python",
   "nbconvert_exporter": "python",
   "pygments_lexer": "ipython3",
   "version": "3.9.12"
  }
 },
 "nbformat": 4,
 "nbformat_minor": 5
}
